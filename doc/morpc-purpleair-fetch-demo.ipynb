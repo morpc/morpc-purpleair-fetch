{
 "cells": [
  {
   "cell_type": "raw",
   "id": "d38b20c5",
   "metadata": {
    "vscode": {
     "languageId": "raw"
    }
   },
   "source": [
    "---\n",
    "downloads:\n",
    "  - file: morpc-purpleair-fetch-demo.ipynb\n",
    "    title: This Notebook\n",
    "  - file: ../morpc-purpleair-fetch.ipynp  \n",
    "    title: Full Workflow Notebook\n",
    "---"
   ]
  },
  {
   "cell_type": "markdown",
   "id": "44d41d82",
   "metadata": {},
   "source": [
    "# MORPC Workflow Demo Template"
   ]
  },
  {
   "cell_type": "markdown",
   "id": "9776df55",
   "metadata": {},
   "source": [
    "## Introduction"
   ]
  },
  {
   "cell_type": "markdown",
   "id": "03ef36ea",
   "metadata": {},
   "source": [
    "Purpose: To demonstrate the type of documentation that would be included in a Demo page. \n",
    "\n",
    "Introduction: Since 2025 the MORPC Data Team has increased it's utilization of Github, including using Github pages as an access point for documentation and simple data products. One example is the documenation for the morpc-py pyton package. See [morpc.github.io/morpc-py](http://morpc.github.io/morpc-py)."
   ]
  },
  {
   "cell_type": "markdown",
   "id": "d24f291b",
   "metadata": {},
   "source": [
    "## Dependences"
   ]
  },
  {
   "cell_type": "markdown",
   "id": "2809cf57",
   "metadata": {},
   "source": [
    "This section explains the dependences of the data workflow being demonstrated."
   ]
  },
  {
   "cell_type": "markdown",
   "id": "651f99b2",
   "metadata": {},
   "source": [
    "## Workflow summary"
   ]
  },
  {
   "cell_type": "markdown",
   "id": "8d114d8c",
   "metadata": {},
   "source": [
    "This section summarizes and explains the basic steps of the workflow."
   ]
  },
  {
   "cell_type": "markdown",
   "id": "002f4212",
   "metadata": {},
   "source": [
    "## Data summary"
   ]
  },
  {
   "cell_type": "markdown",
   "id": "d371521e",
   "metadata": {},
   "source": [
    "This section gives some discriptive data outputs of data in the workflow."
   ]
  },
  {
   "cell_type": "markdown",
   "id": "45ec0a1a",
   "metadata": {},
   "source": [
    "## Data outputs and download"
   ]
  },
  {
   "cell_type": "markdown",
   "id": "ace5dbec",
   "metadata": {},
   "source": [
    "This section present the data outputs of the workflow and provides a point of access. "
   ]
  }
 ],
 "metadata": {
  "language_info": {
   "name": "python"
  }
 },
 "nbformat": 4,
 "nbformat_minor": 5
}
