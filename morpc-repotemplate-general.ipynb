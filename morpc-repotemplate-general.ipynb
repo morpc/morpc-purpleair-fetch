{
 "cells": [
  {
   "cell_type": "markdown",
   "id": "a81791ad-8f58-4124-bba3-f857c73262b3",
   "metadata": {},
   "source": [
    "# Title"
   ]
  },
  {
   "cell_type": "markdown",
   "id": "317fdc10-a19b-4e68-befc-08a712f7ee28",
   "metadata": {
    "tags": []
   },
   "source": [
    "## Introduction"
   ]
  },
  {
   "cell_type": "markdown",
   "id": "8c6b8908-2b9f-4931-b6b3-9ecd24d118eb",
   "metadata": {},
   "source": [
    "This process is dependent on upstream processes. See the \"Prerequisites\" section below.\n",
    "\n",
    "The workflow defined herein is identified as workflow ID #TBD in the [Data Team Master Document List](https://morpc1.sharepoint.com/:x:/s/GISteam/EfC4j3HhohZCrSZzxJdyt5cBFEqVD7zHick8ZW0INqgCYA?e=0WhrAI). References to document list identifiers are denoted by a number in brackets, e.g. [TBD]."
   ]
  },
  {
   "cell_type": "markdown",
   "id": "fa05b048-045c-402d-bb52-708110691f09",
   "metadata": {
    "tags": []
   },
   "source": [
    "## Process outline"
   ]
  },
  {
   "cell_type": "markdown",
   "id": "df5c214d-69e7-4112-b7bb-3e9d377a594e",
   "metadata": {},
   "source": [
    "## Prerequisites and usage notes"
   ]
  },
  {
   "cell_type": "markdown",
   "id": "db2e9d1d-aa32-4ec2-a42e-5c44e39c694f",
   "metadata": {},
   "source": [
    "  - Outputs of one or more upstream workflows must be available at the indicated paths. Make sure that those outputs are up to date prior to running this script. \n",
    "  - This script includes several intentional RuntimeError instances that may be triggered to alert the user to conditions that may require their attention. If the script triggers one of these errors, review the error, verify that the condition is acceptable or resolve any issues, then proceed."
   ]
  },
  {
   "cell_type": "markdown",
   "id": "5b4ee0c6-4158-4a98-bc7f-179022f48ff8",
   "metadata": {},
   "source": [
    "## Setup"
   ]
  },
  {
   "cell_type": "markdown",
   "id": "3cd65147-7804-4778-8def-493d8f2f3542",
   "metadata": {},
   "source": [
    "### Import required packages"
   ]
  },
  {
   "cell_type": "code",
   "execution_count": null,
   "id": "a2e771b4-c162-47ad-8d76-ee12dddd594f",
   "metadata": {},
   "outputs": [],
   "source": [
    "import os\n",
    "import morpc"
   ]
  },
  {
   "cell_type": "markdown",
   "id": "a5ed7156-7d69-400e-92e8-be275d318067",
   "metadata": {},
   "source": [
    "### User-specified parameters"
   ]
  },
  {
   "cell_type": "code",
   "execution_count": null,
   "id": "29c907f2-fcdc-4f84-b8c5-22097daf822d",
   "metadata": {},
   "outputs": [],
   "source": [
    "# When STALE_DATA_INTERRUPT == True, the script will produce a RuntimeError in certain situations where the input \n",
    "# data may be stale and updates might be required prior to running the script.  Otherwise, a warning will be generated \n",
    "# but script execution will continue.  Regardless of whether an error or warning occurs, be sure to verify the readiness \n",
    "# of all input data.\n",
    "STALE_DATA_INTERRUPT = True\n",
    "\n",
    "# This script may pull data from outputs of upstream workflows.  The locations of these outputs are specified by their path relative\n",
    "# a GitHub root directory. This is a single directory which is presumed to contain local working copies of MORPC GitHub repositories.\n",
    "# Specify the path to the directory on your system where the local working copies are stored. By default, the GitHub root directory is\n",
    "# assumed to be one level up from this script.\n",
    "GITHUB_ROOT = \"../\"\n",
    "\n",
    "# Specify the path to the directory where the input data is stored. Sometimes the data may be sourced from this location and sometimes \n",
    "# it may be sourced from elsewhere and archived here.\n",
    "INPUT_DIR = \"./input_data\"\n",
    "\n",
    "# Specify the path to the directory where the output data is stored. Typically it is not necessary to change this, and changing it for \n",
    "# established scripts may break other scripts that depend on outputs from this one.\n",
    "OUTPUT_DIR = \"./output_data\"\n",
    "\n",
    "# Specify the path to the directory where temporary outputs are stored.  Typically this is used to capture data or artifacts that are useful\n",
    "# for understanding the internal workings of a script but which are not considered to be official outputs of the script and may not be \n",
    "# acceptable for use in downstream workflows.\n",
    "TEMP_DIR = \"./temp_data\""
   ]
  },
  {
   "cell_type": "markdown",
   "id": "401c0fde-7773-4ffc-b47c-f1b40f283def",
   "metadata": {},
   "source": [
    "### Static parameters"
   ]
  },
  {
   "cell_type": "markdown",
   "id": "b0004e0a-e241-4757-b5bd-c9819d943514",
   "metadata": {},
   "source": [
    "### Define inputs"
   ]
  },
  {
   "cell_type": "markdown",
   "id": "ab663116-d72d-4f63-8b4c-ba40212d3715",
   "metadata": {},
   "source": [
    "The following datasets are required by this notebook. They will be retrieved from the specified location and temporarily stored in INPUT_DIR."
   ]
  },
  {
   "cell_type": "markdown",
   "id": "85da01ea-fc9e-41d2-b715-11fa170c2ca4",
   "metadata": {},
   "source": [
    "#### Create input data directory"
   ]
  },
  {
   "cell_type": "markdown",
   "id": "ea1ae4d6-e9a3-495e-a339-b7bc598b0926",
   "metadata": {},
   "source": [
    "Create input data directory if it doesn't exist."
   ]
  },
  {
   "cell_type": "code",
   "execution_count": null,
   "id": "b2c03840-4cb0-4417-b97e-2b21b1363f15",
   "metadata": {},
   "outputs": [],
   "source": [
    "inputDir = os.path.normpath(INPUT_DIR)\n",
    "if not os.path.exists(inputDir):\n",
    "    os.makedirs(inputDir)"
   ]
  },
  {
   "cell_type": "markdown",
   "id": "0ac8737d-5330-40d1-8b06-253918294f23",
   "metadata": {},
   "source": [
    "#### MORPC counties reference data [81]"
   ]
  },
  {
   "cell_type": "markdown",
   "id": "52cbb81a-e893-4ed3-a42e-6cc6b2535f3e",
   "metadata": {},
   "source": [
    "Reference data for counties in the MORPC region will be loaded automatically as a morpc.countyLookup() object (see below)."
   ]
  },
  {
   "cell_type": "markdown",
   "id": "7b89988c-dce5-4ce3-955b-f608c7fe6c8b",
   "metadata": {
    "tags": []
   },
   "source": [
    "#### Example input dataset [TBD]"
   ]
  },
  {
   "cell_type": "code",
   "execution_count": null,
   "id": "e29e7a94-010a-468b-afd9-d13fe95d3c5a",
   "metadata": {},
   "outputs": [],
   "source": [
    "# NOTE: As a best practice that the input schema should not be written by the script.  Rather, it should be created separately \n",
    "# (optionally with help from frictionless.Schema.describe) and only read by the script.  This will ensure that an error is produced during\n",
    "# validation if the schema of the output data is inadvertently changed.\n",
    "INPUT_FILENAME = \"foo.csv\"\n",
    "INPUT_PATH = os.path.join(GITHUB_ROOT, \"some-github-repo/output_data/{}\".format(INPUT_FILENAME))   # Assumes that input is pulled from output of an upstream workflow\n",
    "INPUT_SCHEMA_PATH = INPUT_PATH.replace(\".csv\",\".schema.yaml\")\n",
    "INPUT_RESOURCE_PATH = INPUT_PATH.replace(\".csv\",\".resource.yaml\")\n",
    "print(\"Data: {}\".format(INPUT_PATH))\n",
    "print(\"Schema: {}\".format(INPUT_SCHEMA_PATH))\n",
    "print(\"Resource: {}\".format(INPUT_RESOURCE_PATH))"
   ]
  },
  {
   "cell_type": "markdown",
   "id": "3406c4a9-051c-4f0c-8148-504019f37f72",
   "metadata": {
    "tags": []
   },
   "source": [
    "### Define outputs"
   ]
  },
  {
   "cell_type": "markdown",
   "id": "e9356099-b192-4921-9822-8db1cdc42eda",
   "metadata": {
    "tags": []
   },
   "source": [
    "#### Create output data directory"
   ]
  },
  {
   "cell_type": "markdown",
   "id": "892dc452-34c3-4d08-96ab-be3857d36033",
   "metadata": {},
   "source": [
    "Create output data directory if it doesn't exist."
   ]
  },
  {
   "cell_type": "code",
   "execution_count": null,
   "id": "079addf5-cb85-41a2-afa9-6eb226be1b93",
   "metadata": {},
   "outputs": [],
   "source": [
    "outputDir = os.path.normpath(OUTPUT_DIR)\n",
    "if not os.path.exists(outputDir):\n",
    "    os.makedirs(outputDir)   "
   ]
  },
  {
   "cell_type": "markdown",
   "id": "8c3079f3-8c93-401e-b40d-5c4e13d86ede",
   "metadata": {
    "tags": []
   },
   "source": [
    "#### Create temporary data directory"
   ]
  },
  {
   "cell_type": "markdown",
   "id": "d9dd9d74-db09-4e68-a2c6-aea6b4f870be",
   "metadata": {},
   "source": [
    "Create temporary data directory if it doesn't exist."
   ]
  },
  {
   "cell_type": "code",
   "execution_count": null,
   "id": "0bbfb4de-852b-4aa6-81ba-5d416458fe84",
   "metadata": {},
   "outputs": [],
   "source": [
    "tempDir = os.path.normpath(TEMP_DIR)\n",
    "if not os.path.exists(tempDir):\n",
    "    os.makedirs(tempDir)   "
   ]
  },
  {
   "cell_type": "markdown",
   "id": "6690229f-e030-4816-90b3-2ab29e7cd4c2",
   "metadata": {
    "tags": []
   },
   "source": [
    "#### Example output dataset [TBD]"
   ]
  },
  {
   "cell_type": "code",
   "execution_count": null,
   "id": "872645d5-dcec-40f5-a8fc-9c4088ba8509",
   "metadata": {},
   "outputs": [],
   "source": [
    "OUTPUT_FILENAME = \"foo.csv\"\n",
    "OUTPUT_PATH = os.path.join(outputDir, OUTPUT_FILENAME)\n",
    "OUTPUT_SCHEMA_PATH = OUTPUT_PATH.replace(\".csv\",\".schema.yaml\")\n",
    "OUTPUT_RESOURCE_PATH = OUTPUT_PATH.replace(\".csv\",\".resource.yaml\")\n",
    "print(\"Data: {}\".format(OUTPUT_PATH))\n",
    "print(\"Schema: {}\".format(OUTPUT_SCHEMA_PATH))\n",
    "print(\"Resource: {}\".format(OUTPUT_RESOURCE_PATH))"
   ]
  },
  {
   "cell_type": "markdown",
   "id": "08eedadf-8229-49e7-b553-b2eb396a70e8",
   "metadata": {
    "tags": []
   },
   "source": [
    "## Prepare input data"
   ]
  },
  {
   "cell_type": "markdown",
   "id": "592fd177-fd39-47e6-8290-fc4a72fd4cbc",
   "metadata": {},
   "source": [
    "### Load county reference data"
   ]
  },
  {
   "cell_type": "code",
   "execution_count": null,
   "id": "13f7ef4a-38c0-47d9-929f-429bb863bc58",
   "metadata": {},
   "outputs": [],
   "source": [
    "countyLookup = morpc.countyLookup(scope=\"15-County Region\")"
   ]
  },
  {
   "cell_type": "markdown",
   "id": "408d9d0a-ef9a-49c3-8d04-14a9a72592f3",
   "metadata": {},
   "source": [
    "### Load example input data"
   ]
  },
  {
   "cell_type": "code",
   "execution_count": null,
   "id": "93848943-4d49-4758-99cf-2b809d909340",
   "metadata": {},
   "outputs": [],
   "source": [
    "(inputData, inputResource, inputSchema) = morpc.frictionless.load_data(INPUT_RESOURCE_PATH, archiveDir=inputDir, validate=True)"
   ]
  },
  {
   "cell_type": "markdown",
   "id": "2c0f3f69-4f4b-4e73-b786-523eb711e0a4",
   "metadata": {},
   "source": [
    "## Transform data"
   ]
  },
  {
   "cell_type": "markdown",
   "id": "72e66244-d106-41c3-8d79-b6f65447f329",
   "metadata": {},
   "source": [
    "## Export data"
   ]
  },
  {
   "cell_type": "code",
   "execution_count": null,
   "id": "ae05d91f-7b32-40c5-b07b-ea676174216a",
   "metadata": {},
   "outputs": [],
   "source": [
    "outputData.to_csv(OUTPUT_PATH, index=False)"
   ]
  },
  {
   "cell_type": "code",
   "execution_count": null,
   "id": "dc05c0f8-5d84-428e-9f21-01fb4b1fb85e",
   "metadata": {
    "scrolled": true
   },
   "outputs": [],
   "source": [
    "outputResource = morpc.frictionless.create_resource(OUTPUT_FILENAME, \n",
    "    resourcePath=OUTPUT_RESOURCE_PATH,\n",
    "    title=\"Enter a meaningful title for the output dataset\", \n",
    "    description=\"Enter a more detailed description of the output dataset.\",\n",
    "    writeResource=True,\n",
    "    validate=True\n",
    ")\n",
    "outputResource"
   ]
  }
 ],
 "metadata": {
  "kernelspec": {
   "display_name": "Python 3 (ipykernel)",
   "language": "python",
   "name": "python3"
  },
  "language_info": {
   "codemirror_mode": {
    "name": "ipython",
    "version": 3
   },
   "file_extension": ".py",
   "mimetype": "text/x-python",
   "name": "python",
   "nbconvert_exporter": "python",
   "pygments_lexer": "ipython3",
   "version": "3.12.10"
  }
 },
 "nbformat": 4,
 "nbformat_minor": 5
}
