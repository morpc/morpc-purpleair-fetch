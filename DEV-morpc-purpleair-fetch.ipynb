{
 "cells": [
  {
   "cell_type": "code",
   "execution_count": 1,
   "id": "bf417d1f",
   "metadata": {},
   "outputs": [],
   "source": [
    "import purpleair\n",
    "import logging\n",
    "import sys\n"
   ]
  },
  {
   "cell_type": "code",
   "execution_count": 2,
   "id": "f8810533",
   "metadata": {},
   "outputs": [],
   "source": [
    "logging.basicConfig(level=logging.INFO,\n",
    "                    force=True,\n",
    "                    format='%(asctime)s | %(levelname)s | %(name)s.%(funcName)s : %(message)s',\n",
    "                    handlers=[\n",
    "                        logging.FileHandler('morpc-purpleair-fetch.log', mode='w'),\n",
    "                        logging.StreamHandler(stream=sys.stdout)\n",
    "                    ])\n",
    "\n",
    "logging.getLogger('purpleair').setLevel(logging.DEBUG)"
   ]
  },
  {
   "cell_type": "markdown",
   "id": "058e3f6d",
   "metadata": {},
   "source": [
    "### Get currently deployed sensor index list"
   ]
  },
  {
   "cell_type": "markdown",
   "id": "ef079193",
   "metadata": {},
   "source": [
    "Currently working from cached file, downloaded on 10/20/2025"
   ]
  },
  {
   "cell_type": "code",
   "execution_count": null,
   "id": "ea6f38b4",
   "metadata": {},
   "outputs": [],
   "source": [
    "sensor_index = purpleair.get_deployed_sensors(log_path='./Air Quality Sensor Tracking_original.xlsx', start = '2020-01-01', end = '2026-01-01', sheet_name='Deployment Log')"
   ]
  },
  {
   "cell_type": "code",
   "execution_count": null,
   "id": "a1369d97",
   "metadata": {},
   "outputs": [],
   "source": [
    "sensor_index"
   ]
  },
  {
   "cell_type": "markdown",
   "id": "1983f532",
   "metadata": {},
   "source": [
    "### Check Organization details"
   ]
  },
  {
   "cell_type": "code",
   "execution_count": null,
   "id": "3bb3e3df",
   "metadata": {},
   "outputs": [],
   "source": [
    "purpleair.get_organization()"
   ]
  },
  {
   "cell_type": "markdown",
   "id": "f967241b",
   "metadata": {},
   "source": [
    "### List all current groups"
   ]
  },
  {
   "cell_type": "code",
   "execution_count": null,
   "id": "3d1c5752",
   "metadata": {},
   "outputs": [],
   "source": [
    "purpleair.get_groups()"
   ]
  },
  {
   "cell_type": "code",
   "execution_count": null,
   "id": "1ec74547",
   "metadata": {},
   "outputs": [],
   "source": [
    "GROUP_ID = 2758"
   ]
  },
  {
   "cell_type": "markdown",
   "id": "d746d912",
   "metadata": {},
   "source": [
    "### Get group details and members"
   ]
  },
  {
   "cell_type": "code",
   "execution_count": null,
   "id": "a634d5e4",
   "metadata": {},
   "outputs": [],
   "source": [
    "details = purpleair.get_group_details(group_id=GROUP_ID)\n",
    "details"
   ]
  },
  {
   "cell_type": "markdown",
   "id": "f4b36f12",
   "metadata": {},
   "source": [
    "### Compare and update deployment log and API groups"
   ]
  },
  {
   "cell_type": "code",
   "execution_count": null,
   "id": "412418ed",
   "metadata": {},
   "outputs": [],
   "source": [
    "update = purpleair.check_group_members(sensor_index=sensor_index, group_id=GROUP_ID)\n",
    "update"
   ]
  },
  {
   "cell_type": "code",
   "execution_count": null,
   "id": "14f52b2c",
   "metadata": {},
   "outputs": [],
   "source": [
    "purpleair.update_group_members(update=update, group_id=GROUP_ID)"
   ]
  },
  {
   "cell_type": "markdown",
   "id": "ab3f91a2",
   "metadata": {},
   "source": [
    "### Get Sensor Metadata"
   ]
  },
  {
   "cell_type": "code",
   "execution_count": null,
   "id": "96111f4d",
   "metadata": {},
   "outputs": [],
   "source": [
    "metadata = purpleair.get_members_metadata(GROUP_ID)\n",
    "metadata"
   ]
  },
  {
   "cell_type": "markdown",
   "id": "db2ae137",
   "metadata": {},
   "source": [
    "### Get Data for health check"
   ]
  },
  {
   "cell_type": "code",
   "execution_count": null,
   "id": "2fe239e7",
   "metadata": {},
   "outputs": [],
   "source": [
    "check = purpleair.get_members_health(GROUP_ID)\n",
    "check"
   ]
  },
  {
   "cell_type": "markdown",
   "id": "44c00e4d",
   "metadata": {},
   "source": [
    "### Get air quality data form sensor"
   ]
  },
  {
   "cell_type": "code",
   "execution_count": null,
   "id": "62ce6b6b",
   "metadata": {},
   "outputs": [],
   "source": [
    "data = purpleair.get_members_data(GROUP_ID)\n",
    "data"
   ]
  },
  {
   "cell_type": "markdown",
   "id": "7a6557bb",
   "metadata": {},
   "source": [
    "### Get a members historic data"
   ]
  },
  {
   "cell_type": "code",
   "execution_count": null,
   "id": "60852c1c",
   "metadata": {},
   "outputs": [],
   "source": [
    "GROUP_ID = 2758"
   ]
  },
  {
   "cell_type": "code",
   "execution_count": null,
   "id": "48871246",
   "metadata": {},
   "outputs": [],
   "source": [
    "MEMBER_ID = 280453"
   ]
  },
  {
   "cell_type": "code",
   "execution_count": null,
   "id": "9d0eab11",
   "metadata": {},
   "outputs": [],
   "source": [
    "history = purpleair.get_member_history(group_id=GROUP_ID, member_id=MEMBER_ID, start='2025-09-01', end='2025-10-01')\n",
    "history"
   ]
  },
  {
   "cell_type": "code",
   "execution_count": null,
   "id": "7fcc156e",
   "metadata": {},
   "outputs": [],
   "source": [
    "history['pm2.5_alt_a'].plot()"
   ]
  },
  {
   "cell_type": "code",
   "execution_count": null,
   "id": "7e2853c8",
   "metadata": {},
   "outputs": [],
   "source": []
  }
 ],
 "metadata": {
  "kernelspec": {
   "display_name": "morpc_venv",
   "language": "python",
   "name": "python3"
  },
  "language_info": {
   "codemirror_mode": {
    "name": "ipython",
    "version": 3
   },
   "file_extension": ".py",
   "mimetype": "text/x-python",
   "name": "python",
   "nbconvert_exporter": "python",
   "pygments_lexer": "ipython3",
   "version": "3.12.3"
  }
 },
 "nbformat": 4,
 "nbformat_minor": 5
}
