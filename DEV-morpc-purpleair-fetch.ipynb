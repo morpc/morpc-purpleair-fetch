{
 "cells": [
  {
   "cell_type": "code",
   "execution_count": 3,
   "id": "76f31df1",
   "metadata": {},
   "outputs": [],
   "source": [
    "from sqlalchemy import create_engine"
   ]
  },
  {
   "cell_type": "code",
   "execution_count": 4,
   "id": "f22d6f1e",
   "metadata": {},
   "outputs": [],
   "source": [
    "engine = create_engine(\"sqlite+pysqlite:///test.db\")"
   ]
  },
  {
   "cell_type": "code",
   "execution_count": null,
   "id": "a6fb774c",
   "metadata": {},
   "outputs": [],
   "source": [
    "engine."
   ]
  }
 ],
 "metadata": {
  "kernelspec": {
   "display_name": "venv (3.12.10)",
   "language": "python",
   "name": "python3"
  },
  "language_info": {
   "codemirror_mode": {
    "name": "ipython",
    "version": 3
   },
   "file_extension": ".py",
   "mimetype": "text/x-python",
   "name": "python",
   "nbconvert_exporter": "python",
   "pygments_lexer": "ipython3",
   "version": "3.12.10"
  }
 },
 "nbformat": 4,
 "nbformat_minor": 5
}
