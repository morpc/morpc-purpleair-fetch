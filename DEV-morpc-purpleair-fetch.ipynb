{
 "cells": [
  {
   "cell_type": "code",
   "execution_count": 1,
   "id": "bf417d1f",
   "metadata": {},
   "outputs": [],
   "source": [
    "import os\n",
    "import requests\n",
    "import morpc\n",
    "import pandas as pd\n",
    "import math\n",
    "import purpleair"
   ]
  },
  {
   "cell_type": "markdown",
   "id": "058e3f6d",
   "metadata": {},
   "source": [
    "### Get currently deployed sensor index list"
   ]
  },
  {
   "cell_type": "markdown",
   "id": "ef079193",
   "metadata": {},
   "source": [
    "Currently working from cached file, downloaded on 10/20/2025"
   ]
  },
  {
   "cell_type": "code",
   "execution_count": 2,
   "id": "ea6f38b4",
   "metadata": {},
   "outputs": [],
   "source": [
    "sensor_index = purpleair.get_sensor_index(log_path='./Air Quality Sensor Tracking_original.xlsx', sheet_name='Deployment Log')"
   ]
  },
  {
   "cell_type": "code",
   "execution_count": null,
   "id": "1ec78ff0",
   "metadata": {},
   "outputs": [],
   "source": [
    "import datetime\n",
    "\n",
    "TODAY = datetime.date.today().strftime('%Y-%m-%d')"
   ]
  },
  {
   "cell_type": "markdown",
   "id": "1983f532",
   "metadata": {},
   "source": [
    "### Check Organization details"
   ]
  },
  {
   "cell_type": "code",
   "execution_count": null,
   "id": "3bb3e3df",
   "metadata": {},
   "outputs": [],
   "source": [
    "r = requests.get('https://api.purpleair.com/v1/organization', headers={'X-API-Key': purpleair.env['READ_KEY']})"
   ]
  },
  {
   "cell_type": "code",
   "execution_count": null,
   "id": "c44f2ac7",
   "metadata": {},
   "outputs": [],
   "source": [
    "r.json()"
   ]
  },
  {
   "cell_type": "markdown",
   "id": "f967241b",
   "metadata": {},
   "source": [
    "### List all current groups"
   ]
  },
  {
   "cell_type": "code",
   "execution_count": 3,
   "id": "3d1c5752",
   "metadata": {},
   "outputs": [
    {
     "data": {
      "text/plain": [
       "{'api_version': 'V1.2.0-1.1.45',\n",
       " 'time_stamp': 1761051363,\n",
       " 'data_time_stamp': 1761051348,\n",
       " 'groups': [{'id': 2758,\n",
       "   'name': 'MORPC-sensors-2025-10-20',\n",
       "   'created': 1760985057}]}"
      ]
     },
     "execution_count": 3,
     "metadata": {},
     "output_type": "execute_result"
    }
   ],
   "source": [
    "purpleair.get_groups()"
   ]
  },
  {
   "cell_type": "markdown",
   "id": "d746d912",
   "metadata": {},
   "source": [
    "### Get group details and members"
   ]
  },
  {
   "cell_type": "code",
   "execution_count": 4,
   "id": "60852c1c",
   "metadata": {},
   "outputs": [],
   "source": [
    "GROUP_ID = 2758"
   ]
  },
  {
   "cell_type": "code",
   "execution_count": 5,
   "id": "a634d5e4",
   "metadata": {},
   "outputs": [
    {
     "data": {
      "text/plain": [
       "{'api_version': 'V1.2.0-1.1.45',\n",
       " 'time_stamp': 1761051369,\n",
       " 'data_time_stamp': 1761051351,\n",
       " 'group_id': 2758,\n",
       " 'members': [{'id': 280452, 'sensor_index': 221341, 'created': 1761051051},\n",
       "  {'id': 280453, 'sensor_index': 221343, 'created': 1761051051},\n",
       "  {'id': 280454, 'sensor_index': 221345, 'created': 1761051051},\n",
       "  {'id': 280455, 'sensor_index': 221347, 'created': 1761051051},\n",
       "  {'id': 280448, 'sensor_index': 221333, 'created': 1761051050},\n",
       "  {'id': 280449, 'sensor_index': 221335, 'created': 1761051050},\n",
       "  {'id': 280450, 'sensor_index': 221337, 'created': 1761051050},\n",
       "  {'id': 280451, 'sensor_index': 280754, 'created': 1761051050},\n",
       "  {'id': 280460, 'sensor_index': 233851, 'created': 1761051052},\n",
       "  {'id': 280461, 'sensor_index': 233853, 'created': 1761051052},\n",
       "  {'id': 280462, 'sensor_index': 233855, 'created': 1761051052},\n",
       "  {'id': 280463, 'sensor_index': 233857, 'created': 1761051053},\n",
       "  {'id': 280456, 'sensor_index': 221349, 'created': 1761051051},\n",
       "  {'id': 280457, 'sensor_index': 221351, 'created': 1761051052},\n",
       "  {'id': 280458, 'sensor_index': 221353, 'created': 1761051052},\n",
       "  {'id': 280459, 'sensor_index': 233849, 'created': 1761051052},\n",
       "  {'id': 280464, 'sensor_index': 233859, 'created': 1761051053},\n",
       "  {'id': 280465, 'sensor_index': 233861, 'created': 1761051053},\n",
       "  {'id': 280466, 'sensor_index': 233863, 'created': 1761051053},\n",
       "  {'id': 280467, 'sensor_index': 233865, 'created': 1761051054},\n",
       "  {'id': 280361, 'sensor_index': 118637, 'created': 1760989484},\n",
       "  {'id': 280420, 'sensor_index': 140106, 'created': 1761051044},\n",
       "  {'id': 280421, 'sensor_index': 147240, 'created': 1761051044},\n",
       "  {'id': 280422, 'sensor_index': 131379, 'created': 1761051044},\n",
       "  {'id': 280423, 'sensor_index': 135368, 'created': 1761051045},\n",
       "  {'id': 280418, 'sensor_index': 149764, 'created': 1761051044},\n",
       "  {'id': 280419, 'sensor_index': 33861, 'created': 1761051044},\n",
       "  {'id': 280428, 'sensor_index': 262107, 'created': 1761051045},\n",
       "  {'id': 280429, 'sensor_index': 262121, 'created': 1761051046},\n",
       "  {'id': 280430, 'sensor_index': 262105, 'created': 1761051046},\n",
       "  {'id': 280431, 'sensor_index': 157587, 'created': 1761051046},\n",
       "  {'id': 280424, 'sensor_index': 140562, 'created': 1761051045},\n",
       "  {'id': 280425, 'sensor_index': 158823, 'created': 1761051045},\n",
       "  {'id': 280426, 'sensor_index': 262123, 'created': 1761051045},\n",
       "  {'id': 280427, 'sensor_index': 262109, 'created': 1761051045},\n",
       "  {'id': 280436, 'sensor_index': 215599, 'created': 1761051047},\n",
       "  {'id': 280437, 'sensor_index': 215601, 'created': 1761051047},\n",
       "  {'id': 280438, 'sensor_index': 215605, 'created': 1761051047},\n",
       "  {'id': 280439, 'sensor_index': 221315, 'created': 1761051048},\n",
       "  {'id': 280432, 'sensor_index': 215583, 'created': 1761051046},\n",
       "  {'id': 280433, 'sensor_index': 215585, 'created': 1761051046},\n",
       "  {'id': 280434, 'sensor_index': 215587, 'created': 1761051047},\n",
       "  {'id': 280435, 'sensor_index': 281484, 'created': 1761051047},\n",
       "  {'id': 280444, 'sensor_index': 221325, 'created': 1761051049},\n",
       "  {'id': 280445, 'sensor_index': 221327, 'created': 1761051049},\n",
       "  {'id': 280446, 'sensor_index': 221329, 'created': 1761051049},\n",
       "  {'id': 280447, 'sensor_index': 221331, 'created': 1761051049},\n",
       "  {'id': 280440, 'sensor_index': 221317, 'created': 1761051048},\n",
       "  {'id': 280441, 'sensor_index': 221319, 'created': 1761051048},\n",
       "  {'id': 280442, 'sensor_index': 221321, 'created': 1761051048},\n",
       "  {'id': 280443, 'sensor_index': 221323, 'created': 1761051048}]}"
      ]
     },
     "execution_count": 5,
     "metadata": {},
     "output_type": "execute_result"
    }
   ],
   "source": [
    "details = purpleair.get_group_details(group_id=GROUP_ID)\n",
    "details"
   ]
  },
  {
   "cell_type": "markdown",
   "id": "f4b36f12",
   "metadata": {},
   "source": [
    "### Compare and update deployment log and API groups"
   ]
  },
  {
   "cell_type": "code",
   "execution_count": 6,
   "id": "412418ed",
   "metadata": {},
   "outputs": [
    {
     "name": "stdout",
     "output_type": "stream",
     "text": [
      "51 sensors in index from deployment log: 118637, 149764, 33861, 140106, 147240, 131379, 135368, 140562, 158823, 262123, 262109, 262107, 262121, 262105, 157587, 215583, 215585, 215587, 281484, 215599, 215601, 215605, 221315, 221317, 221319, 221321, 221323, 221325, 221327, 221329, 221331, 221333, 221335, 221337, 280754, 221341, 221343, 221345, 221347, 221349, 221351, 221353, 233849, 233851, 233853, 233855, 233857, 233859, 233861, 233863, 233865\n",
      "51 sensors in API group: 221341, 221343, 221345, 221347, 221333, 221335, 221337, 280754, 233851, 233853, 233855, 233857, 221349, 221351, 221353, 233849, 233859, 233861, 233863, 233865, 118637, 140106, 147240, 131379, 135368, 149764, 33861, 262107, 262121, 262105, 157587, 140562, 158823, 262123, 262109, 215599, 215601, 215605, 221315, 215583, 215585, 215587, 281484, 221325, 221327, 221329, 221331, 221317, 221319, 221321, 221323\n"
     ]
    },
    {
     "data": {
      "text/plain": [
       "{'to_add': [], 'to_remove': []}"
      ]
     },
     "execution_count": 6,
     "metadata": {},
     "output_type": "execute_result"
    }
   ],
   "source": [
    "update = purpleair.check_group_members(sensor_index=sensor_index, group_id=GROUP_ID)\n",
    "update"
   ]
  },
  {
   "cell_type": "code",
   "execution_count": null,
   "id": "14f52b2c",
   "metadata": {},
   "outputs": [],
   "source": [
    "purpleair.update_group_members(update=update, group_id=GROUP_ID)"
   ]
  }
 ],
 "metadata": {
  "kernelspec": {
   "display_name": "morpc_venv",
   "language": "python",
   "name": "python3"
  },
  "language_info": {
   "codemirror_mode": {
    "name": "ipython",
    "version": 3
   },
   "file_extension": ".py",
   "mimetype": "text/x-python",
   "name": "python",
   "nbconvert_exporter": "python",
   "pygments_lexer": "ipython3",
   "version": "3.12.3"
  }
 },
 "nbformat": 4,
 "nbformat_minor": 5
}
