{
 "cells": [
  {
   "cell_type": "code",
   "execution_count": null,
   "id": "76f31df1",
   "metadata": {},
   "outputs": [],
   "source": [
    "from sqlalchemy import create_engine\n",
    "import sqlite_utils\n",
    "import os\n",
    "from model import Base"
   ]
  },
  {
   "cell_type": "code",
   "execution_count": null,
   "id": "f22d6f1e",
   "metadata": {},
   "outputs": [],
   "source": [
    "engine = create_engine(\n",
    "    \"sqlite:///gis.db\",\n",
    "    echo=True,\n",
    "    plugins=[\"geoalchemy2\"])"
   ]
  },
  {
   "cell_type": "code",
   "execution_count": null,
   "id": "772a0136",
   "metadata": {},
   "outputs": [],
   "source": [
    "os.environ[\"SPATIALITE_LIBRARY_PATH\"] = sqlite_utils.utils.find_spatialite()"
   ]
  },
  {
   "cell_type": "code",
   "execution_count": null,
   "id": "a6fb774c",
   "metadata": {},
   "outputs": [],
   "source": [
    "conn = engine.connect()"
   ]
  },
  {
   "cell_type": "code",
   "execution_count": null,
   "id": "d9c240c9",
   "metadata": {},
   "outputs": [],
   "source": [
    "conn.close()"
   ]
  },
  {
   "cell_type": "code",
   "execution_count": null,
   "id": "326f9628",
   "metadata": {},
   "outputs": [],
   "source": [
    "Base.metadata.create_all(engine)"
   ]
  },
  {
   "cell_type": "code",
   "execution_count": null,
   "id": "bf417d1f",
   "metadata": {},
   "outputs": [],
   "source": []
  }
 ],
 "metadata": {
  "kernelspec": {
   "display_name": "morpc_venv",
   "language": "python",
   "name": "python3"
  },
  "language_info": {
   "codemirror_mode": {
    "name": "ipython",
    "version": 3
   },
   "file_extension": ".py",
   "mimetype": "text/x-python",
   "name": "python",
   "nbconvert_exporter": "python",
   "pygments_lexer": "ipython3",
   "version": "3.12.9"
  }
 },
 "nbformat": 4,
 "nbformat_minor": 5
}
